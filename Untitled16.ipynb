{
  "nbformat": 4,
  "nbformat_minor": 0,
  "metadata": {
    "colab": {
      "provenance": []
    },
    "kernelspec": {
      "name": "python3",
      "display_name": "Python 3"
    },
    "language_info": {
      "name": "python"
    }
  },
  "cells": [
    {
      "cell_type": "code",
      "execution_count": 2,
      "metadata": {
        "colab": {
          "base_uri": "https://localhost:8080/"
        },
        "id": "rDJeR0FuPsks",
        "outputId": "8f688038-a023-4b8e-aa23-d6ee78c560de"
      },
      "outputs": [
        {
          "output_type": "stream",
          "name": "stdout",
          "text": [
            "       reviewerID        asin  \\\n",
            "0  A2IBPI20UZIR0U  1384719342   \n",
            "1  A14VAT5EAX3D9S  1384719342   \n",
            "2  A195EZSQDW3E21  1384719342   \n",
            "3  A2C00NNG1ZQQG2  1384719342   \n",
            "4   A94QU4C90B1AX  1384719342   \n",
            "\n",
            "                                       reviewerName   helpful  \\\n",
            "0  cassandra tu \"Yeah, well, that's just like, u...    [0, 0]   \n",
            "1                                              Jake  [13, 14]   \n",
            "2                     Rick Bennette \"Rick Bennette\"    [1, 1]   \n",
            "3                         RustyBill \"Sunday Rocker\"    [0, 0]   \n",
            "4                                     SEAN MASLANKA    [0, 0]   \n",
            "\n",
            "                                          reviewText  overall  \\\n",
            "0  Not much to write about here, but it does exac...      5.0   \n",
            "1  The product does exactly as it should and is q...      5.0   \n",
            "2  The primary job of this device is to block the...      5.0   \n",
            "3  Nice windscreen protects my MXL mic and preven...      5.0   \n",
            "4  This pop filter is great. It looks and perform...      5.0   \n",
            "\n",
            "                                 summary  unixReviewTime   reviewTime  \n",
            "0                                   good      1393545600  02 28, 2014  \n",
            "1                                   Jake      1363392000  03 16, 2013  \n",
            "2                   It Does The Job Well      1377648000  08 28, 2013  \n",
            "3          GOOD WINDSCREEN FOR THE MONEY      1392336000  02 14, 2014  \n",
            "4  No more pops when I record my vocals.      1392940800  02 21, 2014  \n",
            "reviewerID         0\n",
            "asin               0\n",
            "reviewerName      27\n",
            "helpful            0\n",
            "reviewText         7\n",
            "overall            0\n",
            "summary            0\n",
            "unixReviewTime     0\n",
            "reviewTime         0\n",
            "dtype: int64\n"
          ]
        }
      ],
      "source": [
        "import pandas as pd\n",
        "\n",
        "# Load the dataset\n",
        "df = pd.read_csv(\"Musical_instruments_reviews.csv\")\n",
        "\n",
        "# Display the first few rows\n",
        "print(df.head())\n",
        "\n",
        "# Check for null values\n",
        "print(df.isnull().sum())\n",
        "\n",
        "# Drop rows with missing values if any\n",
        "df.dropna(inplace=True)\n"
      ]
    },
    {
      "cell_type": "code",
      "source": [
        "import re\n",
        "import string\n",
        "from nltk.corpus import stopwords\n",
        "from nltk.stem import PorterStemmer\n",
        "import nltk\n",
        "nltk.download('stopwords')\n",
        "\n",
        "stop_words = set(stopwords.words('english'))\n",
        "stemmer = PorterStemmer()\n",
        "\n",
        "def preprocess_text(text):\n",
        "    text = text.lower()  # Lowercase\n",
        "    text = re.sub(r'\\d+', '', text)  # Remove digits\n",
        "    text = text.translate(str.maketrans('', '', string.punctuation))  # Remove punctuation\n",
        "    words = text.split()\n",
        "    words = [stemmer.stem(word) for word in words if word not in stop_words]\n",
        "    return ' '.join(words)\n",
        "\n",
        "df['cleaned_text'] = df['reviewText'].apply(preprocess_text)\n"
      ],
      "metadata": {
        "colab": {
          "base_uri": "https://localhost:8080/"
        },
        "id": "hAgGeV_YP-CB",
        "outputId": "9a7b3142-b8a1-4f32-e74e-30246ef058ec"
      },
      "execution_count": 3,
      "outputs": [
        {
          "output_type": "stream",
          "name": "stderr",
          "text": [
            "[nltk_data] Downloading package stopwords to /root/nltk_data...\n",
            "[nltk_data]   Unzipping corpora/stopwords.zip.\n"
          ]
        }
      ]
    },
    {
      "cell_type": "code",
      "source": [
        "from sklearn.feature_extraction.text import TfidfVectorizer\n",
        "\n",
        "vectorizer = TfidfVectorizer(max_features=5000)\n",
        "X = vectorizer.fit_transform(df['cleaned_text'])\n",
        "\n",
        "# Assuming the sentiment label is positive (>=4 stars) or negative (<4)\n",
        "df['label'] = df['overall'].apply(lambda x: 1 if x >= 4 else 0)\n",
        "y = df['label']\n"
      ],
      "metadata": {
        "id": "Q9t0h58oQKeX"
      },
      "execution_count": 4,
      "outputs": []
    },
    {
      "cell_type": "code",
      "source": [
        "from sklearn.model_selection import train_test_split\n",
        "from sklearn.linear_model import LogisticRegression\n",
        "from sklearn.metrics import classification_report, accuracy_score\n",
        "\n",
        "X_train, X_test, y_train, y_test = train_test_split(X, y, test_size=0.2, random_state=42)\n",
        "\n",
        "model = LogisticRegression()\n",
        "model.fit(X_train, y_train)\n",
        "\n",
        "y_pred = model.predict(X_test)\n",
        "print(\"Accuracy:\", accuracy_score(y_test, y_pred))\n",
        "print(classification_report(y_test, y_pred))\n"
      ],
      "metadata": {
        "colab": {
          "base_uri": "https://localhost:8080/"
        },
        "id": "gNybzQr8QOan",
        "outputId": "adfb5f88-1fd8-4bd7-fffe-66709bd465d9"
      },
      "execution_count": 5,
      "outputs": [
        {
          "output_type": "stream",
          "name": "stdout",
          "text": [
            "Accuracy: 0.8973607038123167\n",
            "              precision    recall  f1-score   support\n",
            "\n",
            "           0       0.88      0.06      0.12       222\n",
            "           1       0.90      1.00      0.95      1824\n",
            "\n",
            "    accuracy                           0.90      2046\n",
            "   macro avg       0.89      0.53      0.53      2046\n",
            "weighted avg       0.90      0.90      0.86      2046\n",
            "\n"
          ]
        }
      ]
    },
    {
      "cell_type": "code",
      "source": [
        "import joblib\n",
        "\n",
        "# Save the model and vectorizer\n",
        "joblib.dump(model, 'sentiment_model.pkl')\n",
        "joblib.dump(vectorizer, 'tfidf_vectorizer.pkl')\n"
      ],
      "metadata": {
        "colab": {
          "base_uri": "https://localhost:8080/"
        },
        "id": "HYBXHuhDQRlY",
        "outputId": "8a79c284-bf42-48e3-a437-3e8dcffc6ac2"
      },
      "execution_count": 6,
      "outputs": [
        {
          "output_type": "execute_result",
          "data": {
            "text/plain": [
              "['tfidf_vectorizer.pkl']"
            ]
          },
          "metadata": {},
          "execution_count": 6
        }
      ]
    },
    {
      "cell_type": "code",
      "source": [
        "# Later, to load and use the model\n",
        "loaded_model = joblib.load('sentiment_model.pkl')\n",
        "loaded_vectorizer = joblib.load('tfidf_vectorizer.pkl')\n",
        "\n",
        "sample_review = \"This is a great product!\"\n",
        "processed = preprocess_text(sample_review)\n",
        "vectorized = loaded_vectorizer.transform([processed])\n",
        "prediction = loaded_model.predict(vectorized)\n",
        "\n",
        "print(\"Positive\" if prediction[0] == 1 else \"Negative\")\n"
      ],
      "metadata": {
        "id": "ScX4VPIPQUhe",
        "outputId": "29da7d3e-b5ee-4a14-c08f-ff88265d239d",
        "colab": {
          "base_uri": "https://localhost:8080/"
        }
      },
      "execution_count": 7,
      "outputs": [
        {
          "output_type": "stream",
          "name": "stdout",
          "text": [
            "Positive\n"
          ]
        }
      ]
    }
  ]
}